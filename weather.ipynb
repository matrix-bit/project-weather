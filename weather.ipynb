{
  "nbformat": 4,
  "nbformat_minor": 0,
  "metadata": {
    "colab": {
      "name": "weather.ipynb",
      "provenance": []
    },
    "kernelspec": {
      "name": "python3",
      "display_name": "Python 3"
    },
    "language_info": {
      "name": "python"
    }
  },
  "cells": [
    {
      "cell_type": "code",
      "metadata": {
        "colab": {
          "base_uri": "https://localhost:8080/"
        },
        "id": "O9hVfD7EWg1A",
        "outputId": "06ce49cb-f011-406a-fe76-eb68825aff3d"
      },
      "source": [
        "import requests\n",
        "#import os\n",
        "from datetime import datetime\n",
        "\n",
        "api_key = '87d845b0b6cf29baa1a73cc34b067a95'\n",
        "location = input(\"Enter the city name: \")\n",
        "\n",
        "complete_api_link = \"https://api.openweathermap.org/data/2.5/weather?q=\"+location+\"&appid=\"+api_key\n",
        "api_link = requests.get(complete_api_link)\n",
        "api_data = api_link.json()\n",
        "\n",
        "#create variables to store and display data\n",
        "temp_city = ((api_data['main']['temp']) - 273.15)\n",
        "weather_desc = api_data['weather'][0]['description']\n",
        "hmdt = api_data['main']['humidity']\n",
        "wind_spd = api_data['wind']['speed']\n",
        "date_time = datetime.now().strftime(\"%d %b %Y | %I:%M:%S %p\")\n",
        "\n",
        "noice = \"\"\n",
        "noice += \"-------------------------------------------------------------\\n\"\n",
        "noice += \"Weather Stats for - {}  || {}\\n\".format(location.upper(), date_time)\n",
        "noice += \"-------------------------------------------------------------\\n\"\n",
        "\n",
        "noice += \"Current temperature is: {:.2f} deg C\\n\".format(temp_city)\n",
        "noice += f\"Current weather desc  :{weather_desc}\\n\"\n",
        "noice += f\"Current Humidity      :{hmdt}%\\n\"\n",
        "noice += f\"Current wind speed    :{wind_spd} kmph\\n\"\n",
        "\n",
        "with open('new_file.txt', 'w') as file:\n",
        "    file.write(noice)\n",
        "    print(\"Wrote to new_file.txt\")"
      ],
      "execution_count": 1,
      "outputs": [
        {
          "output_type": "stream",
          "text": [
            "Enter the city name: kochi\n",
            "Wrote to new_file.txt\n"
          ],
          "name": "stdout"
        }
      ]
    },
    {
      "cell_type": "code",
      "metadata": {
        "id": "JEWCUXjEfjVA"
      },
      "source": [
        ""
      ],
      "execution_count": null,
      "outputs": []
    }
  ]
}